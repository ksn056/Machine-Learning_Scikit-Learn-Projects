{
 "cells": [
  {
   "cell_type": "markdown",
   "metadata": {},
   "source": [
    "## Overview\n",
    "Features in the Iris dataset:\n",
    "– sepal length (cm)\n",
    "– sepal width (cm)\n",
    "– petal length (cm)\n",
    "– petal width (cm)\n",
    "• Target classes to predict:\n",
    "– Setosa\n",
    "– Versicolour\n",
    "– Virginica"
   ]
  },
  {
   "cell_type": "code",
   "execution_count": 1,
   "metadata": {},
   "outputs": [],
   "source": [
    "import sklearn \n",
    "import numpy as np\n",
    "import matplotlib\n",
    "import matplotlib.pyplot as plt"
   ]
  },
  {
   "cell_type": "code",
   "execution_count": 2,
   "metadata": {},
   "outputs": [],
   "source": [
    "from sklearn import datasets\n",
    "clf=datasets.load_iris()\n",
    "x=clf.data  # Samples in iris i.e.150 images\n",
    "y=clf.target"
   ]
  },
  {
   "cell_type": "code",
   "execution_count": 3,
   "metadata": {},
   "outputs": [
    {
     "name": "stdout",
     "output_type": "stream",
     "text": [
      "['setosa' 'versicolor' 'virginica']\n"
     ]
    }
   ],
   "source": [
    "print(clf.target_names)"
   ]
  },
  {
   "cell_type": "code",
   "execution_count": 4,
   "metadata": {},
   "outputs": [
    {
     "data": {
      "text/plain": [
       "array([[4.8, 3.4, 1.6, 0.2],\n",
       "       [4.8, 3. , 1.4, 0.1],\n",
       "       [4.3, 3. , 1.1, 0.1],\n",
       "       [5.8, 4. , 1.2, 0.2],\n",
       "       [5.7, 4.4, 1.5, 0.4],\n",
       "       [5.4, 3.9, 1.3, 0.4],\n",
       "       [5.1, 3.5, 1.4, 0.3],\n",
       "       [5.7, 3.8, 1.7, 0.3],\n",
       "       [5.1, 3.8, 1.5, 0.3]])"
      ]
     },
     "execution_count": 4,
     "metadata": {},
     "output_type": "execute_result"
    }
   ],
   "source": [
    "clf.data[11:20]"
   ]
  },
  {
   "cell_type": "markdown",
   "metadata": {},
   "source": [
    "Here 150 images are sliced in 150\n",
    "150 are then split into train and test\n",
    "135 for train\n",
    "15 for test\n",
    "test_size=0.10  10 % test 90 % \n"
   ]
  },
  {
   "cell_type": "code",
   "execution_count": 5,
   "metadata": {},
   "outputs": [
    {
     "data": {
      "text/plain": [
       "array([0, 0, 0, 0, 0, 0, 0, 0, 0])"
      ]
     },
     "execution_count": 5,
     "metadata": {},
     "output_type": "execute_result"
    }
   ],
   "source": [
    "clf.target[11:20]"
   ]
  },
  {
   "cell_type": "code",
   "execution_count": 6,
   "metadata": {},
   "outputs": [],
   "source": [
    "from sklearn.model_selection import train_test_split\n",
    "x_train, x_test, y_train, y_test = train_test_split(x, y, test_size=0.90, random_state=33)"
   ]
  },
  {
   "cell_type": "code",
   "execution_count": 7,
   "metadata": {},
   "outputs": [
    {
     "name": "stderr",
     "output_type": "stream",
     "text": [
      "/home/kiran/anaconda3/lib/python3.7/site-packages/sklearn/svm/base.py:193: FutureWarning: The default value of gamma will change from 'auto' to 'scale' in version 0.22 to account better for unscaled features. Set gamma explicitly to 'auto' or 'scale' to avoid this warning.\n",
      "  \"avoid this warning.\", FutureWarning)\n"
     ]
    },
    {
     "data": {
      "text/plain": [
       "SVC(C=1.0, cache_size=200, class_weight=None, coef0=0.0,\n",
       "    decision_function_shape='ovr', degree=3, gamma='auto_deprecated',\n",
       "    kernel='rbf', max_iter=-1, probability=False, random_state=None,\n",
       "    shrinking=True, tol=0.001, verbose=False)"
      ]
     },
     "execution_count": 7,
     "metadata": {},
     "output_type": "execute_result"
    }
   ],
   "source": [
    "# create the linear model classifier\n",
    "\n",
    "from sklearn.svm import SVC\n",
    "# fit the model\n",
    "abc=SVC(kernel='rbf')\n",
    "abc.fit(x_train,y_train)"
   ]
  },
  {
   "cell_type": "code",
   "execution_count": 8,
   "metadata": {},
   "outputs": [],
   "source": [
    "y_pred = abc.predict(x_test)"
   ]
  },
  {
   "cell_type": "code",
   "execution_count": 9,
   "metadata": {},
   "outputs": [
    {
     "name": "stdout",
     "output_type": "stream",
     "text": [
      "[[5.7 2.9 4.2 1.3]\n",
      " [6.7 3.1 4.4 1.4]\n",
      " [4.7 3.2 1.6 0.2]\n",
      " [6.5 2.8 4.6 1.5]\n",
      " [6.1 2.6 5.6 1.4]\n",
      " [6.3 3.3 6.  2.5]\n",
      " [4.8 3.4 1.9 0.2]\n",
      " [5.1 3.5 1.4 0.3]\n",
      " [6.4 3.1 5.5 1.8]\n",
      " [6.9 3.2 5.7 2.3]\n",
      " [6.8 3.2 5.9 2.3]\n",
      " [4.4 3.  1.3 0.2]\n",
      " [6.3 3.4 5.6 2.4]\n",
      " [6.1 2.9 4.7 1.4]\n",
      " [6.9 3.1 5.1 2.3]\n",
      " [6.4 2.9 4.3 1.3]\n",
      " [6.  3.  4.8 1.8]\n",
      " [5.2 3.5 1.5 0.2]\n",
      " [6.3 3.3 4.7 1.6]\n",
      " [7.2 3.2 6.  1.8]\n",
      " [4.9 3.1 1.5 0.1]\n",
      " [5.7 3.8 1.7 0.3]\n",
      " [6.5 3.  5.8 2.2]\n",
      " [4.8 3.  1.4 0.1]\n",
      " [6.  2.2 5.  1.5]\n",
      " [6.2 2.8 4.8 1.8]\n",
      " [6.1 3.  4.6 1.4]\n",
      " [6.1 2.8 4.  1.3]\n",
      " [6.5 3.  5.2 2. ]\n",
      " [5.9 3.  5.1 1.8]\n",
      " [5.6 2.7 4.2 1.3]\n",
      " [6.7 3.1 4.7 1.5]\n",
      " [5.6 2.8 4.9 2. ]\n",
      " [6.4 3.2 5.3 2.3]\n",
      " [6.7 3.1 5.6 2.4]\n",
      " [6.7 3.  5.2 2.3]\n",
      " [5.8 2.7 5.1 1.9]\n",
      " [5.7 3.  4.2 1.2]\n",
      " [5.  2.3 3.3 1. ]\n",
      " [4.9 3.1 1.5 0.2]\n",
      " [6.3 2.3 4.4 1.3]\n",
      " [5.8 2.6 4.  1.2]\n",
      " [6.2 2.9 4.3 1.3]\n",
      " [4.7 3.2 1.3 0.2]\n",
      " [4.6 3.4 1.4 0.3]\n",
      " [5.1 2.5 3.  1.1]\n",
      " [4.8 3.4 1.6 0.2]\n",
      " [7.9 3.8 6.4 2. ]\n",
      " [5.1 3.4 1.5 0.2]\n",
      " [5.1 3.7 1.5 0.4]\n",
      " [5.6 2.9 3.6 1.3]\n",
      " [6.5 3.  5.5 1.8]\n",
      " [5.4 3.9 1.7 0.4]\n",
      " [7.  3.2 4.7 1.4]\n",
      " [5.8 2.8 5.1 2.4]\n",
      " [7.7 2.6 6.9 2.3]\n",
      " [5.5 2.5 4.  1.3]\n",
      " [5.9 3.2 4.8 1.8]\n",
      " [4.9 3.6 1.4 0.1]\n",
      " [4.5 2.3 1.3 0.3]\n",
      " [6.3 2.8 5.1 1.5]\n",
      " [4.4 2.9 1.4 0.2]\n",
      " [5.  3.6 1.4 0.2]\n",
      " [7.2 3.  5.8 1.6]\n",
      " [6.  3.4 4.5 1.6]\n",
      " [6.2 2.2 4.5 1.5]\n",
      " [7.4 2.8 6.1 1.9]\n",
      " [6.8 3.  5.5 2.1]\n",
      " [6.4 2.8 5.6 2.2]\n",
      " [5.7 2.5 5.  2. ]\n",
      " [5.  3.5 1.6 0.6]\n",
      " [5.1 3.8 1.5 0.3]\n",
      " [6.8 2.8 4.8 1.4]\n",
      " [5.2 2.7 3.9 1.4]\n",
      " [5.1 3.8 1.6 0.2]\n",
      " [5.6 2.5 3.9 1.1]\n",
      " [6.1 3.  4.9 1.8]\n",
      " [6.6 2.9 4.6 1.3]\n",
      " [6.4 2.8 5.6 2.1]\n",
      " [4.3 3.  1.1 0.1]\n",
      " [7.2 3.6 6.1 2.5]\n",
      " [5.1 3.5 1.4 0.2]\n",
      " [6.3 2.5 4.9 1.5]\n",
      " [4.4 3.2 1.3 0.2]\n",
      " [7.6 3.  6.6 2.1]\n",
      " [6.4 3.2 4.5 1.5]\n",
      " [5.1 3.8 1.9 0.4]\n",
      " [6.5 3.2 5.1 2. ]\n",
      " [6.3 2.7 4.9 1.8]\n",
      " [5.  3.5 1.3 0.3]\n",
      " [5.2 3.4 1.4 0.2]\n",
      " [6.4 2.7 5.3 1.9]\n",
      " [5.8 4.  1.2 0.2]\n",
      " [5.7 4.4 1.5 0.4]\n",
      " [4.6 3.2 1.4 0.2]\n",
      " [6.9 3.1 5.4 2.1]\n",
      " [6.3 2.9 5.6 1.8]\n",
      " [5.5 3.5 1.3 0.2]\n",
      " [5.7 2.6 3.5 1. ]\n",
      " [5.  3.3 1.4 0.2]\n",
      " [6.  2.2 4.  1. ]\n",
      " [4.9 3.  1.4 0.2]\n",
      " [5.  2.  3.5 1. ]\n",
      " [6.6 3.  4.4 1.4]\n",
      " [5.7 2.8 4.5 1.3]\n",
      " [5.5 2.6 4.4 1.2]\n",
      " [5.5 2.3 4.  1.3]\n",
      " [4.8 3.1 1.6 0.2]\n",
      " [6.  2.9 4.5 1.5]\n",
      " [5.  3.  1.6 0.2]\n",
      " [6.9 3.1 4.9 1.5]\n",
      " [6.7 2.5 5.8 1.8]\n",
      " [5.3 3.7 1.5 0.2]\n",
      " [5.2 4.1 1.5 0.1]\n",
      " [5.  3.4 1.6 0.4]\n",
      " [4.6 3.6 1.  0.2]\n",
      " [7.7 3.8 6.7 2.2]\n",
      " [7.3 2.9 6.3 1.8]\n",
      " [4.6 3.1 1.5 0.2]\n",
      " [5.5 2.4 3.7 1. ]\n",
      " [5.8 2.7 3.9 1.2]\n",
      " [6.7 3.3 5.7 2.1]\n",
      " [5.8 2.7 4.1 1. ]\n",
      " [5.4 3.7 1.5 0.2]\n",
      " [5.  3.4 1.5 0.2]\n",
      " [6.  2.7 5.1 1.6]\n",
      " [5.7 2.8 4.1 1.3]\n",
      " [6.1 2.8 4.7 1.2]\n",
      " [5.1 3.3 1.7 0.5]\n",
      " [5.6 3.  4.1 1.3]\n",
      " [5.4 3.  4.5 1.5]\n",
      " [5.4 3.9 1.3 0.4]\n",
      " [6.7 3.3 5.7 2.5]\n",
      " [4.9 2.5 4.5 1.7]\n",
      " [6.2 3.4 5.4 2.3]]\n"
     ]
    }
   ],
   "source": [
    "print(x_test)"
   ]
  },
  {
   "cell_type": "code",
   "execution_count": 10,
   "metadata": {},
   "outputs": [
    {
     "name": "stdout",
     "output_type": "stream",
     "text": [
      "[1 1 0 1 2 2 0 0 2 2 2 0 2 1 2 1 1 0 1 2 0 0 2 0 1 1 1 1 2 1 1 1 1 2 2 2 2\n",
      " 1 1 0 1 1 1 0 0 1 0 2 0 0 1 2 0 1 2 2 1 1 0 0 1 0 0 2 1 1 2 2 2 2 0 0 1 1\n",
      " 0 1 1 1 2 0 2 0 1 0 2 1 0 2 1 0 0 2 0 0 0 2 2 0 1 0 1 0 1 1 1 1 1 0 1 0 1\n",
      " 2 0 0 0 0 2 2 0 1 1 2 1 0 0 1 1 1 0 1 1 0 2 1 2]\n"
     ]
    }
   ],
   "source": [
    "print(y_pred)"
   ]
  },
  {
   "cell_type": "code",
   "execution_count": 11,
   "metadata": {},
   "outputs": [
    {
     "name": "stdout",
     "output_type": "stream",
     "text": [
      "(15, 4)\n",
      "(135, 4)\n",
      "(15, 4)\n",
      "(135, 4)\n"
     ]
    }
   ],
   "source": [
    "print(x_train.shape)\n",
    "print(x_test.shape)\n",
    "print(x_train.shape)\n",
    "print(x_test.shape)"
   ]
  },
  {
   "cell_type": "code",
   "execution_count": 12,
   "metadata": {},
   "outputs": [
    {
     "name": "stdout",
     "output_type": "stream",
     "text": [
      "setosa\n"
     ]
    }
   ],
   "source": [
    "y_pred[20]\n",
    "\n",
    "if (y_pred[20]==0):\n",
    "    print(clf.target_names[0])\n",
    "elif(y_pred[20]==1):\n",
    "    print(clf.target_names[1])\n",
    "else:\n",
    "    print(clf.target_names[2])\n",
    "        "
   ]
  },
  {
   "cell_type": "code",
   "execution_count": 13,
   "metadata": {},
   "outputs": [
    {
     "name": "stdout",
     "output_type": "stream",
     "text": [
      "0.9333333333333333\n"
     ]
    }
   ],
   "source": [
    "# Training Accuracy\n",
    "from sklearn import metrics\n",
    "y_train_pred = abc.predict(x_train)\n",
    "print(metrics.accuracy_score(y_train, y_train_pred))"
   ]
  },
  {
   "cell_type": "code",
   "execution_count": 14,
   "metadata": {},
   "outputs": [
    {
     "name": "stdout",
     "output_type": "stream",
     "text": [
      "0.9333333333333333\n"
     ]
    }
   ],
   "source": [
    "y_pred = abc.predict(x_test)\n",
    "print (metrics.accuracy_score(y_test, y_pred))"
   ]
  },
  {
   "cell_type": "code",
   "execution_count": 15,
   "metadata": {},
   "outputs": [],
   "source": [
    "predicted = abc.predict(x_test[0:10])\n",
    "expected = y_test[0:10]"
   ]
  },
  {
   "cell_type": "code",
   "execution_count": 16,
   "metadata": {},
   "outputs": [
    {
     "name": "stdout",
     "output_type": "stream",
     "text": [
      "[1 1 0 1 2 2 0 0 2 2]\n"
     ]
    }
   ],
   "source": [
    "print(predicted)"
   ]
  },
  {
   "cell_type": "code",
   "execution_count": 17,
   "metadata": {},
   "outputs": [
    {
     "name": "stdout",
     "output_type": "stream",
     "text": [
      "[1 1 0 1 2 2 0 0 2 2]\n"
     ]
    }
   ],
   "source": [
    "print(expected)"
   ]
  },
  {
   "cell_type": "code",
   "execution_count": 18,
   "metadata": {},
   "outputs": [
    {
     "name": "stdout",
     "output_type": "stream",
     "text": [
      "0.9333333333333333\n"
     ]
    }
   ],
   "source": [
    "# Training Accuracy\n",
    "from sklearn import metrics\n",
    "y_train_pred = abc.predict(x_train)\n",
    "print(metrics.accuracy_score(y_train, y_train_pred))"
   ]
  },
  {
   "cell_type": "code",
   "execution_count": 20,
   "metadata": {},
   "outputs": [
    {
     "name": "stdout",
     "output_type": "stream",
     "text": [
      "0.9333333333333333\n"
     ]
    }
   ],
   "source": [
    "#Testing Accuracy \n",
    "y_pred = abc.predict(x_test)\n",
    "print (metrics.accuracy_score(y_test, y_pred))"
   ]
  }
 ],
 "metadata": {
  "kernelspec": {
   "display_name": "Python 3",
   "language": "python",
   "name": "python3"
  },
  "language_info": {
   "codemirror_mode": {
    "name": "ipython",
    "version": 3
   },
   "file_extension": ".py",
   "mimetype": "text/x-python",
   "name": "python",
   "nbconvert_exporter": "python",
   "pygments_lexer": "ipython3",
   "version": "3.7.4"
  }
 },
 "nbformat": 4,
 "nbformat_minor": 2
}
